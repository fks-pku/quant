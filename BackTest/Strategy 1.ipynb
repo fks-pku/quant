{
 "cells": [
  {
   "cell_type": "code",
   "execution_count": 4,
   "metadata": {
    "collapsed": true
   },
   "outputs": [
    {
     "ename": "ModuleNotFoundError",
     "evalue": "No module named 'data_processor'",
     "output_type": "error",
     "traceback": [
      "\u001B[0;31m---------------------------------------------------------------------------\u001B[0m",
      "\u001B[0;31mModuleNotFoundError\u001B[0m                       Traceback (most recent call last)",
      "Input \u001B[0;32mIn [4]\u001B[0m, in \u001B[0;36m<cell line: 3>\u001B[0;34m()\u001B[0m\n\u001B[1;32m      1\u001B[0m \u001B[38;5;28;01mimport\u001B[39;00m \u001B[38;5;21;01msys\u001B[39;00m\n\u001B[1;32m      2\u001B[0m sys\u001B[38;5;241m.\u001B[39mpath\u001B[38;5;241m.\u001B[39mappend(\u001B[38;5;124m\"\u001B[39m\u001B[38;5;124m..\u001B[39m\u001B[38;5;124m\"\u001B[39m)\n\u001B[0;32m----> 3\u001B[0m \u001B[38;5;28;01mfrom\u001B[39;00m \u001B[38;5;21;01mTrader\u001B[39;00m \u001B[38;5;28;01mimport\u001B[39;00m Account, SingleTrader, Stock\n",
      "File \u001B[0;32m~/Desktop/ataru/quant/Trader/__init__.py:1\u001B[0m, in \u001B[0;36m<module>\u001B[0;34m\u001B[0m\n\u001B[0;32m----> 1\u001B[0m \u001B[38;5;28;01mfrom\u001B[39;00m \u001B[38;5;21;01mobject\u001B[39;00m \u001B[38;5;28;01mimport\u001B[39;00m Stock, Account, SingleTrader\n",
      "File \u001B[0;32m~/Desktop/ataru/quant/Trader/components.py:4\u001B[0m, in \u001B[0;36m<module>\u001B[0;34m\u001B[0m\n\u001B[1;32m      2\u001B[0m \u001B[38;5;28;01mimport\u001B[39;00m \u001B[38;5;21;01mnumpy\u001B[39;00m \u001B[38;5;28;01mas\u001B[39;00m \u001B[38;5;21;01mnp\u001B[39;00m\n\u001B[1;32m      3\u001B[0m \u001B[38;5;28;01mfrom\u001B[39;00m \u001B[38;5;21;01mtyping\u001B[39;00m \u001B[38;5;28;01mimport\u001B[39;00m Optional\n\u001B[0;32m----> 4\u001B[0m \u001B[38;5;28;01mfrom\u001B[39;00m \u001B[38;5;21;01mdata_processor\u001B[39;00m \u001B[38;5;28;01mimport\u001B[39;00m price\n\u001B[1;32m      8\u001B[0m \u001B[38;5;28;01mclass\u001B[39;00m \u001B[38;5;21;01mStock\u001B[39;00m:\n\u001B[1;32m      9\u001B[0m     \u001B[38;5;28;01mdef\u001B[39;00m \u001B[38;5;21m__int__\u001B[39m(\u001B[38;5;28mself\u001B[39m,\n\u001B[1;32m     10\u001B[0m                 code: \u001B[38;5;28mstr\u001B[39m,\n\u001B[1;32m     11\u001B[0m                 market: \u001B[38;5;28mstr\u001B[39m,\n\u001B[1;32m     12\u001B[0m                 price: \u001B[38;5;28mfloat\u001B[39m,\n\u001B[1;32m     13\u001B[0m                 num: \u001B[38;5;28mint\u001B[39m,\n\u001B[1;32m     14\u001B[0m                 ):\n",
      "\u001B[0;31mModuleNotFoundError\u001B[0m: No module named 'data_processor'"
     ]
    }
   ],
   "source": [
    "import sys\n",
    "sys.path.append(\"..\")\n",
    "mpofrom Trader import Account, SingleTrader, Stock"
   ]
  },
  {
   "cell_type": "code",
   "execution_count": 6,
   "outputs": [],
   "source": [
    "import yfinance as yf\n",
    "\n",
    "apple = yf.Ticker(\"aapl\")\n"
   ],
   "metadata": {
    "collapsed": false
   }
  },
  {
   "cell_type": "code",
   "execution_count": 8,
   "outputs": [
    {
     "name": "stdout",
     "output_type": "stream",
     "text": [
      "Failed to get ticker 'AAPL' reason: [Errno Expecting value] <!DOCTYPE html>\n",
      "<html lang=\"zh\">\n",
      "<head>\n",
      "    <meta charset=\"utf-8\">\n",
      "    <title>Yahoo</title>\n",
      "    <meta name=\"viewport\" content=\"width=device-width,initial-scale=1,minimal-ui\">\n",
      "    <meta http-equiv=\"X-UA-Compatible\" content=\"IE=edge,chrome=1\">\n",
      "    <style>\n",
      "html {\n",
      "  height: 100%;\n",
      "}\n",
      "body {\n",
      "  background: #fafafc url(https://s.yimg.com/nn/img/sad-panda-201402200631.png) 50% 50%;\n",
      "  background-size: cover;\n",
      "  height: 100%;\n",
      "  text-align: center;\n",
      "  font: 300 16px \"helvetica neue\", helvetica, verdana, tahoma, arial, sans-serif;\n",
      "}\n",
      "#message {\n",
      "  text-align: left;\n",
      "  font-weight: 400;\n",
      "  color: #1A1A1A;\n",
      "}\n",
      "#message a {\n",
      "  padding: 0 3px;\n",
      "}\n",
      "#container {\n",
      "  position: absolute;\n",
      "  top: 50%;\n",
      "  left: 50%;\n",
      "  padding: 0 30px;\n",
      "  margin-right: -50%;\n",
      "  transform: translate(-50%, -50%);\n",
      "  max-width: 40em;\n",
      "  _width: 40em;\n",
      "}\n",
      "#container img {\n",
      "  width: 174px;\n",
      "  height: auto;\n",
      "}\n",
      "#switcher a {\n",
      "  font-weight: 400;\n",
      "}\n",
      "#switcher a.active {\n",
      "  color: #000;\n",
      "  text-decoration: none;\n",
      "  cursor: default;\n",
      "}\n",
      "    </style>\n",
      "</head>\n",
      "<body>\n",
      "  <div id=\"container\">\n",
      "    <img src=\"https://s.yimg.com/rz/p/yahoo_homepage_en-US_s_f_p_bestfit_homepage_2x.png\" alt=\"Yahoo Logo\">\n",
      "    <div id=\"switcher\">\n",
      "      <a data-lang=\"en\" class=\"active\" href='#'>English</a> |\n",
      "      <a data-lang=\"zh-Hant\" href='#'>ç¹é«ä¸­æ</a> |\n",
      "      <a data-lang=\"zh-Hans\" href='#'>ç®ä½ä¸­æ</a>\n",
      "    </div>\n",
      "    <div id=\"message\">\n",
      "      <p>As of November 1st, 2021 Yahooâs suite of services will no longer be accessible from mainland China. Yahoo products and services remain unaffected in all other global locations. We thank you for your support and readership.</p>\n",
      "    </div>\n",
      "  </div>\n",
      "<script>\n",
      "const Msg = {\n",
      "  'en': '<p>As of November 1st, 2021 Yahooâs suite of services will no longer be accessible from mainland China. Yahoo products and services remain unaffected in all other global locations. We thank you for your support and readership.</p>',\n",
      "  'zh-Hant': '<p>2021 å¹´ 11 æ 1 æ¥èµ·ï¼ç¨æ¶å°ç¡æ³å¾ä¸­åå¤§é¸ä½¿ç¨ Yahoo çç¢åèæåãéä¸¦ä¸å½±é¿ Yahoo å¨å¨çå¶ä»å°æ¹çç¢ååæåãæåæè¬æ¨ä¸ç´ä»¥ä¾çæ¯æã</p>',\n",
      "  'zh-Hans': '<p>2021 å¹´ 11 æ 1 æ¥èµ·ï¼ç¨æ·å°æ æ³ä»ä¸­å½å¤§éä½¿ç¨ Yahoo çäº§åä¸æå¡ãè¿å¹¶ä¸å½±å Yahoo å¨å¨çå¶ä»å°æ¹çäº§ååæå¡ãæä»¬æè°¢ä½ ä¸ç´ä»¥ä¾çæ¯æã</p>'\n",
      "};\n",
      "\n",
      "const message = document.querySelector('#message');\n",
      "\n",
      "const switchLang = function (lang) {\n",
      "  message.innerHTML = Msg[lang] ? Msg[lang] : Msg.en;\n",
      "  const oldE = document.querySelector('#switcher .active');\n",
      "  const newE = document.querySelector(`#switcher a[data-lang=${lang}]`);\n",
      "  oldE.className = '';\n",
      "  newE.className = 'active';\n",
      "}\n",
      "\n",
      "const detectLang = function() {\n",
      "  const langs = window.navigator.languages ? window.navigator.languages : [window.navigator.language];\n",
      "  const availableLangs = langs.map(l => l.toLowerCase()).filter(l => /^en/.test(l) || /^zh/.test(l));\n",
      "  const selectedLang = availableLangs.length ? availableLangs[0] : 'en';\n",
      "  const prefLang =  /^en/.test(selectedLang) ? 'en' :\n",
      "      (selectedLang === 'zh-tw' || selectedLang === 'zh-hk') ? 'zh-Hant' : 'zh-Hans';\n",
      "  switchLang(prefLang);\n",
      "}\n",
      "\n",
      "const switcher = document.querySelector('#switcher');\n",
      "switcher.addEventListener('click', (e) => {\n",
      "  const lang = e.target.getAttribute('data-lang');\n",
      "  if (lang) {\n",
      "    switchLang(lang);\n",
      "  }\n",
      "});\n",
      "\n",
      "detectLang();\n",
      "\n",
      "</script>\n",
      "</body></html>\n",
      ": 0\n",
      "- AAPL: No timezone found, symbol may be delisted\n"
     ]
    },
    {
     "data": {
      "text/plain": "[]"
     },
     "execution_count": 8,
     "metadata": {},
     "output_type": "execute_result"
    }
   ],
   "source": [
    "apple.actions"
   ],
   "metadata": {
    "collapsed": false
   }
  },
  {
   "cell_type": "code",
   "execution_count": 15,
   "outputs": [
    {
     "name": "stderr",
     "output_type": "stream",
     "text": [
      "                                               \r"
     ]
    },
    {
     "data": {
      "text/plain": "        code   name\n0     000001   平安银行\n1     000002  万  科Ａ\n2     000004   ST国华\n3     000005   ST星源\n4     000006   深振业Ａ\n...      ...    ...\n5159  873223   荣亿精密\n5160  873305   九菱科技\n5161  873339   恒太照明\n5162  873527    夜光明\n5163  873593   鼎智科技\n\n[5164 rows x 2 columns]",
      "text/html": "<div>\n<style scoped>\n    .dataframe tbody tr th:only-of-type {\n        vertical-align: middle;\n    }\n\n    .dataframe tbody tr th {\n        vertical-align: top;\n    }\n\n    .dataframe thead th {\n        text-align: right;\n    }\n</style>\n<table border=\"1\" class=\"dataframe\">\n  <thead>\n    <tr style=\"text-align: right;\">\n      <th></th>\n      <th>code</th>\n      <th>name</th>\n    </tr>\n  </thead>\n  <tbody>\n    <tr>\n      <th>0</th>\n      <td>000001</td>\n      <td>平安银行</td>\n    </tr>\n    <tr>\n      <th>1</th>\n      <td>000002</td>\n      <td>万  科Ａ</td>\n    </tr>\n    <tr>\n      <th>2</th>\n      <td>000004</td>\n      <td>ST国华</td>\n    </tr>\n    <tr>\n      <th>3</th>\n      <td>000005</td>\n      <td>ST星源</td>\n    </tr>\n    <tr>\n      <th>4</th>\n      <td>000006</td>\n      <td>深振业Ａ</td>\n    </tr>\n    <tr>\n      <th>...</th>\n      <td>...</td>\n      <td>...</td>\n    </tr>\n    <tr>\n      <th>5159</th>\n      <td>873223</td>\n      <td>荣亿精密</td>\n    </tr>\n    <tr>\n      <th>5160</th>\n      <td>873305</td>\n      <td>九菱科技</td>\n    </tr>\n    <tr>\n      <th>5161</th>\n      <td>873339</td>\n      <td>恒太照明</td>\n    </tr>\n    <tr>\n      <th>5162</th>\n      <td>873527</td>\n      <td>夜光明</td>\n    </tr>\n    <tr>\n      <th>5163</th>\n      <td>873593</td>\n      <td>鼎智科技</td>\n    </tr>\n  </tbody>\n</table>\n<p>5164 rows × 2 columns</p>\n</div>"
     },
     "execution_count": 15,
     "metadata": {},
     "output_type": "execute_result"
    }
   ],
   "source": [
    "import akshare as ak\n",
    "stock_info = ak.stock_info_a_code_name()\n",
    "stock_info\n",
    "\n"
   ],
   "metadata": {
    "collapsed": false
   }
  },
  {
   "cell_type": "code",
   "execution_count": 14,
   "outputs": [
    {
     "name": "stdout",
     "output_type": "stream",
     "text": [
      "[*********************100%***********************]  1 of 1 completed\n",
      "\n",
      "1 Failed download:\n",
      "- 000001.SZ: No timezone found, symbol may be delisted\n"
     ]
    },
    {
     "data": {
      "text/plain": "Empty DataFrame\nColumns: [Open, High, Low, Close, Adj Close, Volume]\nIndex: []",
      "text/html": "<div>\n<style scoped>\n    .dataframe tbody tr th:only-of-type {\n        vertical-align: middle;\n    }\n\n    .dataframe tbody tr th {\n        vertical-align: top;\n    }\n\n    .dataframe thead th {\n        text-align: right;\n    }\n</style>\n<table border=\"1\" class=\"dataframe\">\n  <thead>\n    <tr style=\"text-align: right;\">\n      <th></th>\n      <th>Open</th>\n      <th>High</th>\n      <th>Low</th>\n      <th>Close</th>\n      <th>Adj Close</th>\n      <th>Volume</th>\n    </tr>\n    <tr>\n      <th>Date</th>\n      <th></th>\n      <th></th>\n      <th></th>\n      <th></th>\n      <th></th>\n      <th></th>\n    </tr>\n  </thead>\n  <tbody>\n  </tbody>\n</table>\n</div>"
     },
     "execution_count": 14,
     "metadata": {},
     "output_type": "execute_result"
    }
   ],
   "source": [
    "yf.download('000001.SZ',start='2023-04-01',end='2023-04-04')"
   ],
   "metadata": {
    "collapsed": false
   }
  },
  {
   "cell_type": "code",
   "execution_count": null,
   "outputs": [],
   "source": [],
   "metadata": {
    "collapsed": false
   }
  }
 ],
 "metadata": {
  "kernelspec": {
   "display_name": "Python 3",
   "language": "python",
   "name": "python3"
  },
  "language_info": {
   "codemirror_mode": {
    "name": "ipython",
    "version": 2
   },
   "file_extension": ".py",
   "mimetype": "text/x-python",
   "name": "python",
   "nbconvert_exporter": "python",
   "pygments_lexer": "ipython2",
   "version": "2.7.6"
  }
 },
 "nbformat": 4,
 "nbformat_minor": 0
}
